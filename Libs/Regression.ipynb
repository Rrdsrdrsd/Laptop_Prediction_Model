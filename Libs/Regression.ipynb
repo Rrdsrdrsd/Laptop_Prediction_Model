{
 "cells": [
  {
   "cell_type": "markdown",
   "id": "bcda1502-fc55-4575-b8e3-a248a1fdbed2",
   "metadata": {},
   "source": [
    "## RIDGE REGRESSION"
   ]
  },
  {
   "cell_type": "code",
   "execution_count": null,
   "id": "fff3ba62-2db4-4c1c-9062-ef6eda4a2e44",
   "metadata": {},
   "outputs": [],
   "source": [
    "from sklearn.linear_model import Ridge\n",
    "rdg = Ridge(alpha = 0.5)\n",
    "rdg.fit(X, y)\n",
    "rdg.score(X,y)\n",
    "\n",
    "rdg.coef_       //This attribute provides the weight vectors.\n",
    "rdg.intercept_  //It represents the independent term in decision function.\n",
    "n_iter_         //It gives the number of iterations run by the coordinate descent solver to reach the specified tolerance."
   ]
  },
  {
   "cell_type": "markdown",
   "id": "baa36e41-fa7e-47e3-a549-ae3c085bba76",
   "metadata": {},
   "source": [
    "## LASSO"
   ]
  },
  {
   "cell_type": "code",
   "execution_count": null,
   "id": "e874c7ad-5178-4c2b-a1bf-b248f346c420",
   "metadata": {},
   "outputs": [],
   "source": [
    "from sklearn import linear_model\n",
    "Lreg = linear_model.Lasso(alpha = 0.5)\n",
    "Lreg.fit([[0,0], [1, 1], [2, 2]], [0, 1, 2])\n",
    "\n",
    "Lreg.coef_\n",
    "Lreg.intercept_\n",
    "Lreg.n_iter_"
   ]
  },
  {
   "cell_type": "markdown",
   "id": "667f8ccd-ff74-403b-8b58-ab0288a7f5a1",
   "metadata": {},
   "source": [
    "## SVM"
   ]
  },
  {
   "cell_type": "code",
   "execution_count": null,
   "id": "91644b9d-9348-44a0-afff-b2e30bd3b307",
   "metadata": {},
   "outputs": [],
   "source": [
    "from sklearn import svm\n",
    "SVRReg = svm.SVR(kernel = ’linear’, gamma = ’auto’)\n",
    "SVRReg.fit(X, y)\n"
   ]
  },
  {
   "cell_type": "code",
   "execution_count": null,
   "id": "b17c92f6-3d75-4209-afc0-176a17658174",
   "metadata": {},
   "outputs": [],
   "source": []
  }
 ],
 "metadata": {
  "kernelspec": {
   "display_name": "Python 3 (ipykernel)",
   "language": "python",
   "name": "python3"
  },
  "language_info": {
   "codemirror_mode": {
    "name": "ipython",
    "version": 3
   },
   "file_extension": ".py",
   "mimetype": "text/x-python",
   "name": "python",
   "nbconvert_exporter": "python",
   "pygments_lexer": "ipython3",
   "version": "3.10.1"
  }
 },
 "nbformat": 4,
 "nbformat_minor": 5
}
