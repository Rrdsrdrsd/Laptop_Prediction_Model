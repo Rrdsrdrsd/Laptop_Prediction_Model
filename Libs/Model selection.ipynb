{
 "cells": [
  {
   "cell_type": "markdown",
   "id": "4ac65cea-2ac9-42f0-9742-75e0be48de89",
   "metadata": {},
   "source": [
    "## GRID SEARCH"
   ]
  },
  {
   "cell_type": "code",
   "execution_count": null,
   "id": "a866b304-9af4-4a54-aaa5-1e4228377381",
   "metadata": {},
   "outputs": [],
   "source": [
    "from sklearn.model_selection import GridSearchCV\n",
    "parameters = {'kernel':('linear', 'rbf'), 'C':[1, 10]}\n",
    "svc = svm.SVC()\n",
    "clf = GridSearchCV(svc, parameters)\n",
    "clf.fit(iris.data, iris.target)\n",
    "sorted(clf.cv_results_.keys())\n",
    "\n",
    "decision_function(X) //Call decision_function on the estimator with the best found parameters.\n",
    "\n",
    "fit(X[, y, groups]) //Run fit with all sets of parameters.\n",
    "\n",
    "get_params([deep]) //Get parameters for this estimator.\n",
    "\n",
    "inverse_transform(Xt) //Call inverse_transform on the estimator with the best found params.\n",
    "\n",
    "predict(X) //Call predict on the estimator with the best found parameters.\n",
    "\n",
    "predict_log_proba(X) //Call predict_log_proba on the estimator with the best found parameters.\n",
    "\n",
    "predict_proba(X) //Call predict_proba on the estimator with the best found parameters.\n",
    "\n",
    "score(X[, y]) //Return the score on the given data, if the estimator has been refit.\n",
    "\n",
    "score_samples(X) //Call score_samples on the estimator with the best found parameters.\n",
    "\n",
    "set_params(**params) //Set the parameters of this estimator.\n",
    "\n",
    "transform(X) //Call transform on the estimator with the best found parameters."
   ]
  },
  {
   "cell_type": "markdown",
   "id": "83a18858-c0ce-4594-a634-a2a0db73ba47",
   "metadata": {},
   "source": [
    "## CROSS - VALIDATION"
   ]
  },
  {
   "cell_type": "code",
   "execution_count": null,
   "id": "09684c56-d2ef-41c2-ba59-3e7f2a9660ab",
   "metadata": {},
   "outputs": [],
   "source": [
    ">>> from sklearn import datasets, linear_model\n",
    ">>> from sklearn.model_selection import cross_validate\n",
    ">>> from sklearn.metrics import make_scorer\n",
    ">>> from sklearn.metrics import confusion_matrix\n",
    ">>> from sklearn.svm import LinearSVC\n",
    ">>> diabetes = datasets.load_diabetes()\n",
    ">>> X = diabetes.data[:150]\n",
    ">>> y = diabetes.target[:150]\n",
    ">>> lasso = linear_model.Lasso()\n",
    "\n",
    "## SINGLE MATRIC EVALUATION \n",
    ">>> cv_results = cross_validate(lasso, X, y, cv=3)\n",
    ">>> sorted(cv_results.keys())\n",
    "['fit_time', 'score_time', 'test_score']\n",
    ">>> cv_results['test_score']\n",
    "array([0.33150734, 0.08022311, 0.03531764])\n",
    "\n",
    "## MULTI MATRIC EVALUATION\n",
    ">>> scores = cross_validate(lasso, X, y, cv=3,\n",
    "...                         scoring=('r2', 'neg_mean_squared_error'),\n",
    "...                         return_train_score=True)\n",
    ">>> print(scores['test_neg_mean_squared_error'])\n",
    "[-3635.5... -3573.3... -6114.7...]\n",
    ">>> print(scores['train_r2'])\n",
    "[0.28010158 0.39088426 0.22784852]"
   ]
  },
  {
   "cell_type": "markdown",
   "id": "77b3256b-fa84-412b-b856-a343f0aaa51c",
   "metadata": {},
   "source": [
    "## METRICS"
   ]
  },
  {
   "cell_type": "code",
   "execution_count": null,
   "id": "cb35f5b8-c68c-47ef-8a32-ac1bc3f733b2",
   "metadata": {},
   "outputs": [],
   "source": []
  }
 ],
 "metadata": {
  "kernelspec": {
   "display_name": "Python 3 (ipykernel)",
   "language": "python",
   "name": "python3"
  },
  "language_info": {
   "codemirror_mode": {
    "name": "ipython",
    "version": 3
   },
   "file_extension": ".py",
   "mimetype": "text/x-python",
   "name": "python",
   "nbconvert_exporter": "python",
   "pygments_lexer": "ipython3",
   "version": "3.10.1"
  }
 },
 "nbformat": 4,
 "nbformat_minor": 5
}
