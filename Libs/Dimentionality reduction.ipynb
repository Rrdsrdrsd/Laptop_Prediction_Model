{
 "cells": [
  {
   "cell_type": "markdown",
   "id": "29814723-a2dc-4816-9b84-53d3219b47e7",
   "metadata": {},
   "source": [
    "## PRINCIPLE COMPONENT ANALYSIS (PCA)"
   ]
  },
  {
   "cell_type": "markdown",
   "id": "8545b02a-1cef-4555-8c68-89732d3d4588",
   "metadata": {},
   "source": [
    "#### EXACT PCA"
   ]
  },
  {
   "cell_type": "code",
   "execution_count": null,
   "id": "930b2697-5d6e-423c-a705-0485f4b6f782",
   "metadata": {},
   "outputs": [],
   "source": [
    "from sklearn.decomposition import PCA\n",
    "pca = PCA(n_components = 5)\n",
    "fit = pca.fit(X)"
   ]
  },
  {
   "cell_type": "markdown",
   "id": "2d86dd04-eb3f-4500-96c6-7dea5c8ba6c2",
   "metadata": {},
   "source": [
    "#### INCREMENTAL PCA"
   ]
  },
  {
   "cell_type": "code",
   "execution_count": null,
   "id": "a9884b7f-c3e0-4108-90ee-ab5eb74769c7",
   "metadata": {},
   "outputs": [],
   "source": [
    "from sklearn.decomposition import IncrementalPCA\n",
    "transformer = IncrementalPCA(n_components = 10, batch_size = 100)\n",
    "transformer.partial_fit(X[:100, :])\n",
    "X_transformed = transformer.fit_transform(X)\n",
    "X_transformed.shape"
   ]
  },
  {
   "cell_type": "markdown",
   "id": "5d173a70-b5f2-4898-888d-01bdd4c1fa0a",
   "metadata": {},
   "source": [
    "#### KERNEL PCA"
   ]
  },
  {
   "cell_type": "code",
   "execution_count": null,
   "id": "e911f3d6-c663-4374-bf01-a7811abc7eb2",
   "metadata": {},
   "outputs": [],
   "source": [
    "from sklearn.decomposition import KernelPCA\n",
    "transformer = KernelPCA(n_components = 10, kernel = 'sigmoid')\n",
    "X_transformed = transformer.fit_transform(X)\n",
    "X_transformed.shape"
   ]
  },
  {
   "cell_type": "markdown",
   "id": "edfe0519-e34e-43fe-ab13-ba051e08c2d7",
   "metadata": {},
   "source": [
    "#### PCA USING RANDOMIZED SVD"
   ]
  },
  {
   "cell_type": "code",
   "execution_count": null,
   "id": "5c1de774-f7cb-4676-9d75-a7e19750c9eb",
   "metadata": {},
   "outputs": [],
   "source": [
    "from sklearn.decomposition import PCA\n",
    "pca = PCA(n_components = 7,svd_solver = 'randomized')\n",
    "fit = pca.fit(X)"
   ]
  },
  {
   "cell_type": "markdown",
   "id": "2e6904e0-ec16-4fae-8bf1-21c062977656",
   "metadata": {},
   "source": [
    "## FEATURE SELECTION"
   ]
  },
  {
   "cell_type": "markdown",
   "id": "8f6b5c07-2db4-4fd4-925f-bfcca3be2054",
   "metadata": {},
   "source": [
    "#### REMOVING FEATURES WITH LOW VARIANCE"
   ]
  },
  {
   "cell_type": "code",
   "execution_count": null,
   "id": "4fc66df8-7c0c-4cd4-8c94-161291445c04",
   "metadata": {},
   "outputs": [],
   "source": [
    "from sklearn.feature_selection import VarianceThreshold\n",
    "sel = VarianceThreshold(threshold=(.8 * (1 - .8)))\n",
    "sel.fit_transform(X)"
   ]
  },
  {
   "cell_type": "markdown",
   "id": "a799fb79-0a28-42f1-8292-17831e278900",
   "metadata": {},
   "source": [
    "#### UNIVARIATE FEATURE SELECTION"
   ]
  },
  {
   "cell_type": "code",
   "execution_count": null,
   "id": "0a029b0e-195c-45ef-b67c-ef8ab659e9bf",
   "metadata": {},
   "outputs": [],
   "source": [
    " from sklearn.feature_selection import SelectKBest\n",
    " from sklearn.feature_selection import chi2\n",
    " X_new = SelectKBest(chi2, k=2).fit_transform(X, y)"
   ]
  },
  {
   "cell_type": "markdown",
   "id": "2534dd3b-bdc1-49d0-9411-23a1f357a9ea",
   "metadata": {},
   "source": [
    "#### SELECT FROM MODEL -- L-1 BASED FS"
   ]
  },
  {
   "cell_type": "code",
   "execution_count": null,
   "id": "dfb8f69a-f176-48e9-9424-9d4d74696e7c",
   "metadata": {},
   "outputs": [],
   "source": [
    "from sklearn.svm import LinearSVC\n",
    "from sklearn.feature_selection import SelectFromModel\n",
    "lsvc = LinearSVC(C=0.01, penalty=\"l1\", dual=False).fit(X, y)\n",
    "model = SelectFromModel(lsvc, prefit=True)\n",
    "X_new = model.transform(X)"
   ]
  },
  {
   "cell_type": "markdown",
   "id": "0e628d8e-eb25-421c-af83-29130a31d830",
   "metadata": {},
   "source": [
    "#### SELECT FROM MODEL -- TREE BASED FS"
   ]
  },
  {
   "cell_type": "code",
   "execution_count": null,
   "id": "556dc7ed-479f-4874-b33b-0b7396ca6c33",
   "metadata": {},
   "outputs": [],
   "source": [
    "from sklearn.ensemble import ExtraTreesClassifier\n",
    "from sklearn.feature_selection import SelectFromModel\n",
    "clf = ExtraTreesClassifier(n_estimators=50)\n",
    "clf = clf.fit(X, y)\n",
    "clf.feature_importances_\n",
    "model = SelectFromModel(clf, prefit=True)\n",
    "X_new = model.transform(X)"
   ]
  },
  {
   "cell_type": "markdown",
   "id": "04581be5-007a-458f-ab5a-6401beaec771",
   "metadata": {},
   "source": [
    "#### FEATURE SELCTIONS AS PART OF PIPELINE"
   ]
  },
  {
   "cell_type": "code",
   "execution_count": null,
   "id": "4b68402d-1ad6-4d15-863e-04b4ceb08a62",
   "metadata": {},
   "outputs": [],
   "source": [
    "clf = Pipeline([\n",
    "  ('feature_selection', SelectFromModel(LinearSVC(penalty=\"l1\"))),\n",
    "  ('classification', RandomForestClassifier())\n",
    "])\n",
    "clf.fit(X, y)"
   ]
  },
  {
   "cell_type": "markdown",
   "id": "2fcd66ba-5a3d-400c-b0f4-56e77558f45c",
   "metadata": {},
   "source": [
    "## NON-NEGATIVE MATRIX FACTORIZTION"
   ]
  },
  {
   "cell_type": "code",
   "execution_count": null,
   "id": "04637736-18f9-469d-80a7-3937bca77a7f",
   "metadata": {},
   "outputs": [],
   "source": [
    "from sklearn.decomposition import NMF\n",
    "model = NMF(n_components=2, init='random', random_state=0)\n",
    "W = model.fit_transform(X)\n",
    "H = model.components_\n",
    "\n",
    "fit(X[, y]) //Learn a NMF model for the data X.\n",
    "\n",
    "fit_transform(X[, y, W, H]) //Learn a NMF model for the data X and returns the transformed data.\n",
    "\n",
    "get_params([deep]) //Get parameters for this estimator.\n",
    "\n",
    "inverse_transform(W) //Transform data back to its original space.\n",
    "\n",
    "set_params(**params) //Set the parameters of this estimator.\n",
    "\n",
    "transform(X) //Transform the data X according to the fitted NMF model."
   ]
  }
 ],
 "metadata": {
  "kernelspec": {
   "display_name": "Python 3 (ipykernel)",
   "language": "python",
   "name": "python3"
  },
  "language_info": {
   "codemirror_mode": {
    "name": "ipython",
    "version": 3
   },
   "file_extension": ".py",
   "mimetype": "text/x-python",
   "name": "python",
   "nbconvert_exporter": "python",
   "pygments_lexer": "ipython3",
   "version": "3.10.1"
  }
 },
 "nbformat": 4,
 "nbformat_minor": 5
}
