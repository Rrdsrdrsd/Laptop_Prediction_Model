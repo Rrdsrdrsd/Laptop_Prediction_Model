{
 "cells": [
  {
   "cell_type": "markdown",
   "id": "b7223248-69a1-4e8c-878d-369c9521caef",
   "metadata": {},
   "source": [
    "## K-MEANS"
   ]
  },
  {
   "cell_type": "code",
   "execution_count": null,
   "id": "127d04be-31b9-46ee-8d34-3adeb1d8de57",
   "metadata": {},
   "outputs": [],
   "source": [
    "from sklearn.cluster import KMeans\n",
    "kmeans = KMeans(n_clusters=2, random_state=0).fit(X)\n",
    "\n",
    "kmeans.labels_ // gives each data labeled to coresponding cluster \n",
    "kmeans.predict([[0, 0], [12, 3]]) // predicts new data\n",
    "kmeans.cluster_centers_ //Gives center of cluster\n",
    "\n",
    "fit(X[, y, sample_weight]) //Compute k-means clustering.\n",
    "\n",
    "fit_predict(X[, y, sample_weight]) //Compute cluster centers and predict cluster index for each sample.\n",
    "\n",
    "fit_transform(X[, y, sample_weight]) //Compute clustering and transform X to cluster-distance space.\n",
    "\n",
    "get_params([deep]) //Get parameters for this estimator.\n",
    "\n",
    "predict(X[, sample_weight]) //Predict the closest cluster each sample in X belongs to.\n",
    "\n",
    "score(X[, y, sample_weight]) //Opposite of the value of X on the K-means objective.\n",
    "\n",
    "set_params(**params) //Set the parameters of this estimator.\n",
    "\n",
    "transform(X) //Transform X to a cluster-distance space."
   ]
  },
  {
   "cell_type": "markdown",
   "id": "18dee4b5-1760-4dd6-a079-7cb763fb134e",
   "metadata": {},
   "source": [
    "## SPECTRAL CLUSTERING"
   ]
  },
  {
   "cell_type": "code",
   "execution_count": null,
   "id": "a8cf8ad0-3604-4839-8e80-ee04173ac3d1",
   "metadata": {},
   "outputs": [],
   "source": [
    "from sklearn.cluster import SpectralClustering\n",
    "clustering = SpectralClustering(n_clusters=2,\n",
    "assign_labels='discretize',\n",
    "random_state=0).fit(X)\n",
    "clustering.labels_\n",
    "clustering\n",
    "SpectralClustering(assign_labels='discretize', n_clusters=2, random_state=0)\n",
    "\n",
    "fit(X[, y]) //Perform spectral clustering from features, or affinity matrix.\n",
    "\n",
    "fit_predict(X[, y]) //Perform spectral clustering on X and return cluster labels.\n",
    "\n",
    "get_params([deep]) //Get parameters for this estimator.\n",
    "\n",
    "set_params(**params) //Set the parameters of this estimator."
   ]
  },
  {
   "cell_type": "markdown",
   "id": "d6768bf1-2ced-460a-9236-fcbe458b6d48",
   "metadata": {},
   "source": [
    "## MEAN-SHIFT"
   ]
  },
  {
   "cell_type": "code",
   "execution_count": null,
   "id": "260450db-6bb5-42a3-a82c-a82d06e58dfc",
   "metadata": {},
   "outputs": [],
   "source": [
    "from sklearn.cluster import MeanShift\n",
    "clustering = MeanShift(bandwidth=2).fit(X)\n",
    "clustering.labels_\n",
    "clustering.predict([[0, 0], [5, 5]])\n",
    "clustering\n",
    "MeanShift(bandwidth=2)\n",
    "\n",
    "fit(X[, y]) //Perform clustering.\n",
    "\n",
    "fit_predict(X[, y]) //Perform clustering on X and returns cluster labels.\n",
    "\n",
    "get_params([deep]) //Get parameters for this estimator.\n",
    "\n",
    "predict(X) //Predict the closest cluster each sample in X belongs to.\n",
    "\n",
    "set_params(**params) //Set the parameters of this estimator."
   ]
  }
 ],
 "metadata": {
  "kernelspec": {
   "display_name": "Python 3 (ipykernel)",
   "language": "python",
   "name": "python3"
  },
  "language_info": {
   "codemirror_mode": {
    "name": "ipython",
    "version": 3
   },
   "file_extension": ".py",
   "mimetype": "text/x-python",
   "name": "python",
   "nbconvert_exporter": "python",
   "pygments_lexer": "ipython3",
   "version": "3.10.1"
  }
 },
 "nbformat": 4,
 "nbformat_minor": 5
}
